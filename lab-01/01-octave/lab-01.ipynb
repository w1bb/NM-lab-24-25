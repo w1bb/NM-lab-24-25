{
 "cells": [
  {
   "cell_type": "markdown",
   "id": "4e884a79-ebc4-43ce-81eb-3a211616adde",
   "metadata": {},
   "source": [
    "# Lab 01\n",
    "\n",
    "Bine ați venit la primul laborator de **Metode Numerice**!"
   ]
  },
  {
   "cell_type": "markdown",
   "id": "d9fc5b0c-b824-4756-b4a7-21e7a88e5d1f",
   "metadata": {},
   "source": [
    "## Obiective\n",
    "\n",
    "- Setup Docker + Octave;\n",
    "- Familiarizarea cu limbajul Octave;"
   ]
  },
  {
   "cell_type": "markdown",
   "id": "331c67be-d0aa-4fb3-b41a-9a49216e2a84",
   "metadata": {},
   "source": [
    "## 1. Scalari, vectori, matrice\n",
    "\n",
    "În Octave, variabilele cu care veți lucra de obicei vor fi scalarii, vectorii și matricele.\n",
    "\n",
    "Codul de mai jos declară, pe rând, un scalar $n$, un vector linie $\\boldsymbol{v}$ și o matrice $A$:"
   ]
  },
  {
   "cell_type": "code",
   "execution_count": 1,
   "id": "236e00d9-5b27-4303-b268-810f02cc134f",
   "metadata": {},
   "outputs": [
    {
     "name": "stdout",
     "output_type": "stream",
     "text": [
      "warning: using the gnuplot graphics toolkit is discouraged\n",
      "\n",
      "The gnuplot graphics toolkit is not actively maintained and has a number\n",
      "of limitations that are unlikely to be fixed.  Communication with gnuplot\n",
      "uses a one-directional pipe and limited information is passed back to the\n",
      "Octave interpreter so most changes made interactively in the plot window\n",
      "will not be reflected in the graphics properties managed by Octave.  For\n",
      "example, if the plot window is closed with a mouse click, Octave will not\n",
      "be notified and will not update its internal list of open figure windows.\n",
      "The qt toolkit is recommended instead.\n",
      "\n",
      "n = 5\n"
     ]
    }
   ],
   "source": [
    "n = 5"
   ]
  },
  {
   "cell_type": "code",
   "execution_count": 2,
   "id": "bec449c5-e57b-4614-8818-6f40b3ce47bb",
   "metadata": {},
   "outputs": [
    {
     "name": "stdout",
     "output_type": "stream",
     "text": [
      "v =\n",
      "\n",
      "   1   2   3\n",
      "\n"
     ]
    }
   ],
   "source": [
    "v = [1 2 3] # Alternativ: v = [1, 2, 3]"
   ]
  },
  {
   "cell_type": "code",
   "execution_count": 7,
   "id": "85085d81-c461-4593-8999-fef8983472eb",
   "metadata": {},
   "outputs": [
    {
     "name": "stdout",
     "output_type": "stream",
     "text": [
      "ans =\n",
      "\n",
      "   1   2   3\n",
      "   4   5   6\n",
      "\n"
     ]
    }
   ],
   "source": [
    "[1 2 3; 4 5 6]\n",
    "A = [1 2 3; 4 5 6; 7 8 9];"
   ]
  },
  {
   "cell_type": "markdown",
   "id": "750b6931-2079-4746-a951-604a5d31073f",
   "metadata": {},
   "source": [
    "Puteți executa, de exemplu, operațiile matematice cu care sunteți deja familiari:"
   ]
  },
  {
   "cell_type": "code",
   "execution_count": null,
   "id": "dba7f71d-f256-4a70-8762-e6e3bc40fc94",
   "metadata": {},
   "outputs": [],
   "source": [
    "3.14 * 20"
   ]
  },
  {
   "cell_type": "code",
   "execution_count": null,
   "id": "14388587-d757-420a-90d1-1257c72a370f",
   "metadata": {},
   "outputs": [],
   "source": [
    "n * 3"
   ]
  },
  {
   "cell_type": "code",
   "execution_count": null,
   "id": "6c042c55-1ee6-4ac5-a8ab-bf54712e2e70",
   "metadata": {},
   "outputs": [],
   "source": [
    "w = 3 * [-1 -2 -3 -4 -5]"
   ]
  },
  {
   "cell_type": "code",
   "execution_count": null,
   "id": "ebd0610c-0e11-4b31-b67c-96133f94aa57",
   "metadata": {},
   "outputs": [],
   "source": [
    "B = [1 2; 3 4] * [5 6; 7 8]"
   ]
  },
  {
   "cell_type": "markdown",
   "id": "5914caf6-fbfb-414b-a2bb-532286d9acc7",
   "metadata": {},
   "source": [
    "### Matrice speciale\n",
    "\n",
    "Există câteva matrice pe care le veți folosi mai mereu:"
   ]
  },
  {
   "cell_type": "markdown",
   "id": "44b85df8-7749-4c41-b17f-f0f3cca5b894",
   "metadata": {},
   "source": [
    "**Matricea $O_{n,m}$**"
   ]
  },
  {
   "cell_type": "code",
   "execution_count": null,
   "id": "c66ca6f3-791e-4854-b73a-7b2518d0e96e",
   "metadata": {},
   "outputs": [],
   "source": [
    "O1 = zeros(4, 3) % O matrice cu 4 linii, 3 coloane, plină numai cu zerouri\n",
    "O2 = zeros(2)    % O matrice cu 2 linii, 2 coloane, plină numai cu zerouri"
   ]
  },
  {
   "cell_type": "markdown",
   "id": "2bb76943-6bdd-4689-a7ed-c257a0833296",
   "metadata": {},
   "source": [
    "**Matricea $1_{n,m}$**"
   ]
  },
  {
   "cell_type": "code",
   "execution_count": null,
   "id": "1cf0df11-49ca-4a31-a0f4-30d45267db3c",
   "metadata": {},
   "outputs": [],
   "source": [
    "One1 = ones(4, 3) % O matrice cu 4 linii, 3 coloane, plină numai cu 1\n",
    "One2 = ones(2)    % O matrice cu 2 linii, 2 coloane, plină numai cu 1"
   ]
  },
  {
   "cell_type": "markdown",
   "id": "90e488c3-2462-4013-a002-66441999621a",
   "metadata": {},
   "source": [
    "**Matricea $I_{n,m}$**"
   ]
  },
  {
   "cell_type": "code",
   "execution_count": null,
   "id": "475fcded-e279-4baa-a3dd-d5f9c6add6eb",
   "metadata": {},
   "outputs": [],
   "source": [
    "E1 = eye(4, 3) % O matrice cu 4 linii, 3 coloane, unde diagonala principală\n",
    "                 % conține valori de 1, restul fiind numai zerouri\n",
    "E2 = eye(2)    % O matrice cu 2 linii, 2 coloane, unde diagonala principală\n",
    "                 % conține valori de 1, restul fiind numai zerouri"
   ]
  },
  {
   "cell_type": "markdown",
   "id": "7c5e2959-f786-440a-8608-f5deb0d3d200",
   "metadata": {},
   "source": [
    "### Operații pe matrice\n",
    "\n",
    "Vom porni de la o matrice pe care să testăm diverse operații matriceale:"
   ]
  },
  {
   "cell_type": "code",
   "execution_count": null,
   "id": "d65e7028-4d28-4f37-84b9-9eac4e7859f1",
   "metadata": {},
   "outputs": [],
   "source": [
    "A = [-3 5 1; 4 7 8; -1 -2 2]"
   ]
  },
  {
   "cell_type": "markdown",
   "id": "0b97cdb9-f177-4804-8e48-6b675e7b6c80",
   "metadata": {},
   "source": [
    "Câteva dintre cele mai utilizate operații pe matrice pot fi găsite mai jos:"
   ]
  },
  {
   "cell_type": "markdown",
   "id": "e7b21419-4ccc-4c95-b7f1-f152d4083c77",
   "metadata": {},
   "source": [
    "**Transpusa**"
   ]
  },
  {
   "cell_type": "code",
   "execution_count": null,
   "id": "e243eb08-e195-427a-80bb-6b8ae45992b7",
   "metadata": {},
   "outputs": [],
   "source": [
    "A' % A = [-3 5 1; 4 7 8; -1 -2 2]"
   ]
  },
  {
   "cell_type": "markdown",
   "id": "59adf8fa-1a11-4675-a438-4fa3359d923c",
   "metadata": {},
   "source": [
    "**Determinantul**"
   ]
  },
  {
   "cell_type": "code",
   "execution_count": null,
   "id": "d115a475-3e4e-4101-b891-e1db6f4accce",
   "metadata": {},
   "outputs": [],
   "source": [
    "det(A) % A = [-3 5 1; 4 7 8; -1 -2 2]"
   ]
  },
  {
   "cell_type": "markdown",
   "id": "14990da9-0fa4-4fae-8ee3-46947a31454b",
   "metadata": {},
   "source": [
    "**Trace-ul**"
   ]
  },
  {
   "cell_type": "code",
   "execution_count": null,
   "id": "9bda9a96-1a96-4e83-9b17-578f7465df1a",
   "metadata": {},
   "outputs": [],
   "source": [
    "trace(A) % A = [-3 5 1; 4 7 8; -1 -2 2]"
   ]
  },
  {
   "cell_type": "markdown",
   "id": "e2e059e8-2af9-4640-b255-fd861484b757",
   "metadata": {},
   "source": [
    "**Inversa**"
   ]
  },
  {
   "cell_type": "code",
   "execution_count": null,
   "id": "33b702d5-d7c8-4448-a7c3-78dda986249b",
   "metadata": {},
   "outputs": [],
   "source": [
    "A^-1 % A = [-3 5 1; 4 7 8; -1 -2 2]"
   ]
  },
  {
   "cell_type": "code",
   "execution_count": null,
   "id": "919e017a-b7f8-4428-9e90-6ae65110f227",
   "metadata": {},
   "outputs": [],
   "source": [
    "inv(A) % A = [-3 5 1; 4 7 8; -1 -2 2]"
   ]
  },
  {
   "cell_type": "markdown",
   "id": "43927323-d3d3-4241-b30f-365c2c6c767b",
   "metadata": {},
   "source": [
    "**Valorile proprii**"
   ]
  },
  {
   "cell_type": "code",
   "execution_count": null,
   "id": "12a82240-53b1-4e54-9deb-0ef046b92f4f",
   "metadata": {},
   "outputs": [],
   "source": [
    "eig(A) % A = [-3 5 1; 4 7 8; -1 -2 2]"
   ]
  },
  {
   "cell_type": "markdown",
   "id": "cc2aa572-427d-45e7-b217-92449e9a78c8",
   "metadata": {},
   "source": [
    "**Suma elementelor de pe coloane** - adică $\\begin{bmatrix}-3+4-1 & 5+7-2 & 1+8+2\\end{bmatrix}$"
   ]
  },
  {
   "cell_type": "code",
   "execution_count": null,
   "id": "bb10bd3d-9186-4fba-906d-2bc5d4961c76",
   "metadata": {},
   "outputs": [],
   "source": [
    "sum(A) % A = [-3 5 1; 4 7 8; -1 -2 2]"
   ]
  },
  {
   "cell_type": "markdown",
   "id": "d3c5f3e0-6215-45de-b657-f3e3b26259a3",
   "metadata": {},
   "source": [
    "**Produsul elementelor de pe coloane** - adică $\\begin{bmatrix}-3\\cdot4\\cdot-1 & 5\\cdot7\\cdot-2 & 1\\cdot8\\cdot2\\end{bmatrix}$"
   ]
  },
  {
   "cell_type": "code",
   "execution_count": null,
   "id": "d08c24b6-b25e-4a69-ad29-1b31a8995ba0",
   "metadata": {},
   "outputs": [],
   "source": [
    "prod(A) % A = [-3 5 1; 4 7 8; -1 -2 2]"
   ]
  },
  {
   "cell_type": "markdown",
   "id": "06e474b0-40a8-43a0-a27e-f39c4cddb12e",
   "metadata": {},
   "source": [
    "**Dimensiunea matricei** - sub forma `[nr_linii nr_coloane]`"
   ]
  },
  {
   "cell_type": "code",
   "execution_count": null,
   "id": "c4876e97-c687-43e2-979f-d2f9f4c5c082",
   "metadata": {},
   "outputs": [],
   "source": [
    "B = [1 2 3; 4 5 6];\n",
    "size(B)"
   ]
  },
  {
   "cell_type": "markdown",
   "id": "9412c933-d126-46f9-a7e0-7790a09368af",
   "metadata": {},
   "source": [
    "**Diagonala matricei** - obținerea unui vector coloană ce conține elementele aflate pe diagonala principală a matricei inițiale"
   ]
  },
  {
   "cell_type": "code",
   "execution_count": null,
   "id": "47504b4e-def0-4e00-a649-18fde1e8014e",
   "metadata": {},
   "outputs": [],
   "source": [
    "diag(A) % A = [-3 5 1; 4 7 8; -1 -2 2]"
   ]
  },
  {
   "cell_type": "markdown",
   "id": "d6d0d3dc-0c5e-45f1-bfdd-6b334f604ba3",
   "metadata": {},
   "source": [
    "Suplimentar, puteți folosi sintaxa `diag(diag(A))` dacă vreți să obțineți o matrice diagonală ce conține elementele de pe diagonala principală ale matricei A:"
   ]
  },
  {
   "cell_type": "code",
   "execution_count": null,
   "id": "28606d6e-f705-4d9c-81ca-7cf913f9690a",
   "metadata": {},
   "outputs": [],
   "source": [
    "diag(diag(A)) % A = [-3 5 1; 4 7 8; -1 -2 2]"
   ]
  },
  {
   "cell_type": "markdown",
   "id": "1f64f716-051e-4650-933a-cb3a616f8e2e",
   "metadata": {},
   "source": [
    "**Valoarea absolută** - matricea ce are intrările egale cu modulele elementelor matricei inițiale"
   ]
  },
  {
   "cell_type": "code",
   "execution_count": null,
   "id": "2e05e07d-94c1-4a8f-ac1d-7427e99a3824",
   "metadata": {},
   "outputs": [],
   "source": [
    "abs(A) % A = [-3 5 1; 4 7 8; -1 -2 2]"
   ]
  },
  {
   "cell_type": "markdown",
   "id": "463bbdab-7e47-46dc-822e-aaa4f1d02942",
   "metadata": {},
   "source": [
    "### Exerciții\n",
    "\n",
    "**Exercițiu 1.** Se dă sistemul de ecuații liniare:\n",
    "\n",
    "\n",
    "\\begin{cases}\n",
    "    2u + 5v = 31\\\\\n",
    "    3u + 3v= 24\n",
    "\\end{cases}\n",
    "\n",
    "Scrieți ecuația sub forma $A\\boldsymbol{x}=\\boldsymbol{b}$, apoi completați mai jos matricea A și vectorul **b**. Folosind operațiile pe care le cunoașteți deja, calculați vectorul **x**, soluția ecuației."
   ]
  },
  {
   "cell_type": "code",
   "execution_count": null,
   "id": "e078b816-f752-4c8d-8628-d4e4cb670c6b",
   "metadata": {},
   "outputs": [],
   "source": [
    "A = [] % TODO 1\n",
    "b = [] % TODO 1\n",
    "\n",
    "x = [] % TODO 2"
   ]
  },
  {
   "cell_type": "markdown",
   "id": "d57d6853-91e9-492f-9fd6-3f88bdee61b1",
   "metadata": {},
   "source": [
    "**Exercițiul 2.** Presupunând că **nu** puteți utiliza funcția `det(A)`, calculați determinantul unei matrice oarecare A _(HINT: valori proprii)_"
   ]
  },
  {
   "cell_type": "code",
   "execution_count": null,
   "id": "0be6d9d3-4f82-404f-b696-2671c94e75a2",
   "metadata": {},
   "outputs": [],
   "source": [
    "A = [-3 5 1; 4 7 8; -1 -2 2];\n",
    "det_A = 0; % TODO\n",
    "\n",
    "fprintf(\"Determinantul corect: %f\\n\", det(A));\n",
    "fprintf(\"Determinantul calculat de voi: %f\\n\", det_A);"
   ]
  },
  {
   "cell_type": "markdown",
   "id": "040a1eeb-028c-4ad4-94dc-9eaf29a14172",
   "metadata": {},
   "source": [
    "**Exercițiul 3.** Verificați dacă o matrice dată este [**dominant diagonală**](https://en.wikipedia.org/wiki/Diagonally_dominant_matrix)."
   ]
  },
  {
   "cell_type": "code",
   "execution_count": null,
   "id": "da50306e-4cb3-433e-8c7e-fda0e42c84ab",
   "metadata": {},
   "outputs": [],
   "source": [
    "D = [-8 2 3; -4 9 -5; 1 0 6];\n",
    "\n",
    "% TODO - rezultatul așteptat este [1; 1; 1] - încercați să ajungeți la el"
   ]
  },
  {
   "cell_type": "markdown",
   "id": "d8f106c9-bfaf-4a52-bc66-8c4b646849a6",
   "metadata": {},
   "source": [
    "### Alte operații pe matrice\n",
    "\n",
    "Suplimentar față de ce ați învățat, se poate utiliza **operatorul Hadamard**, `.`, astfel încât operațiile să se execute pentru fiecare element în parte.\n",
    "\n",
    "De exemplu, să plecăm de la matricele următoare:"
   ]
  },
  {
   "cell_type": "code",
   "execution_count": null,
   "id": "d9322a2b-f831-42f5-8cc0-44b1d2b82527",
   "metadata": {},
   "outputs": [],
   "source": [
    "A = [4 8; -2 9]\n",
    "B = [2 3; 6 -1]"
   ]
  },
  {
   "cell_type": "markdown",
   "id": "8065f83b-de95-45c6-9a7e-176412d194fb",
   "metadata": {},
   "source": [
    "Înmulțirea acestor matrice este exact ce ne-am aștepta să fie:"
   ]
  },
  {
   "cell_type": "code",
   "execution_count": null,
   "id": "e0535ae5-828b-41da-8e97-da0232e3a6a4",
   "metadata": {},
   "outputs": [],
   "source": [
    "A * B"
   ]
  },
  {
   "cell_type": "markdown",
   "id": "bb74a7a4-bcd8-46e6-9d52-a4f90ca19ec6",
   "metadata": {},
   "source": [
    "Dar dacă am vrea să înmulțim aceste matrice element cu element? (aka [Hadamard product](https://en.wikipedia.org/wiki/Hadamard_product_(matrices))):\n",
    "\n",
    "$$A \\odot B=\\begin{bmatrix}4\\cdot2 & 8\\cdot3\\\\-2\\cdot6 & 9\\cdot-1\\end{bmatrix}=\\begin{bmatrix}8&24\\\\-12&-9\\end{bmatrix}$$\n",
    "\n",
    "În acest caz, vom folosi operatorul `.*`:"
   ]
  },
  {
   "cell_type": "code",
   "execution_count": null,
   "id": "7d38dffa-4b3f-40a5-a45c-80a52882564b",
   "metadata": {},
   "outputs": [],
   "source": [
    "A .* B"
   ]
  },
  {
   "cell_type": "markdown",
   "id": "25946eaf-bcb2-48c4-bc2e-80a063e1e99a",
   "metadata": {},
   "source": [
    "Vom utiliza acest operator mai cu seamă în laboratoarele viitoare."
   ]
  },
  {
   "cell_type": "markdown",
   "id": "289e0f4b-bfdc-48b3-910d-abd10f764f18",
   "metadata": {},
   "source": [
    "## 2. Octave, un limbaj oarecare\n",
    "\n",
    "Să discutăm acum și câteva noțiuni pentru a putea folosi Octave ca pe oricare alt limbaj.\n",
    "\n",
    "O funcție primește ceva ca input (să zicem `x1`, `x2`, `x3`) și returnează ceva ca output (să zicem `y1`, `y2`). În Octave, acest lucru arată cam așa:"
   ]
  },
  {
   "cell_type": "code",
   "execution_count": null,
   "id": "6a5d056a-868f-49ae-a983-029072183825",
   "metadata": {},
   "outputs": [],
   "source": [
    "function [y1, y2] = nume_functie(x1, x2, x3)\n",
    "    y1 = x1 * x2 + x3;\n",
    "    y2 = 0;\n",
    "end\n",
    "\n",
    "[y1, y2] = nume_functie(4, 5, 1)"
   ]
  },
  {
   "cell_type": "markdown",
   "id": "6585bb88-6c64-4a53-9b57-fd7413da3b7e",
   "metadata": {},
   "source": [
    "Încercați să comentați linia `y2 = 0;` - mai rulează programul?"
   ]
  },
  {
   "cell_type": "markdown",
   "id": "bcb3f7b5-ccf6-40cd-a1a5-494fc098a672",
   "metadata": {},
   "source": [
    "Să încercăm să verificăm o condiție - asemănător **Python** (un limbaj mai serios decât Octave din toate punctele de vedere), există instrucțiunea `if`:"
   ]
  },
  {
   "cell_type": "code",
   "execution_count": null,
   "id": "99961c64-2ced-4874-8a12-b425e25f9987",
   "metadata": {},
   "outputs": [],
   "source": [
    "A = [1 2; 3 4];\n",
    "if (A == [1 2])\n",
    "    printf(\"Alice\")\n",
    "elseif (A == [1 2; 3 4])\n",
    "    printf(\"Bob\")\n",
    "else\n",
    "    printf(\"Charlie\")\n",
    "end"
   ]
  },
  {
   "cell_type": "markdown",
   "id": "261564a0-d1c7-4693-928a-e6300e63adc3",
   "metadata": {},
   "source": [
    "Buclele de `while` sunt și ele intuitive:"
   ]
  },
  {
   "cell_type": "code",
   "execution_count": null,
   "id": "ab41b402-d9fe-49eb-8ec0-cc6054e59b01",
   "metadata": {},
   "outputs": [],
   "source": [
    "cnt = 0;\n",
    "while (cnt < 5)\n",
    "    cnt += 4;\n",
    "end\n",
    "printf(\"cnt -> %f\", cnt)"
   ]
  },
  {
   "cell_type": "markdown",
   "id": "c6243d00-a43b-41f6-8063-b38bcf824f98",
   "metadata": {},
   "source": [
    "Pe de altă parte, buclele `for` vor folosi range-uri în loc de varianta cu care v-ați obișnuit în `C`. Să vedem întâi cum arată acestea:"
   ]
  },
  {
   "cell_type": "code",
   "execution_count": null,
   "id": "b095ccb7-e958-4db1-abf0-0e31548b484c",
   "metadata": {},
   "outputs": [],
   "source": [
    "r1 = 1:3 % x:y <=> range de la x la y inclusiv"
   ]
  },
  {
   "cell_type": "code",
   "execution_count": null,
   "id": "e6ee4fea-2e6f-4767-86f1-1ae48d6c1411",
   "metadata": {},
   "outputs": [],
   "source": [
    "r2 = 1:0.5:4 % x:p:y <=> range de la x la y inclusiv cu pasul p"
   ]
  },
  {
   "cell_type": "markdown",
   "id": "df912c54-97b3-4a7e-a880-2c8f39c02847",
   "metadata": {},
   "source": [
    "Buclele `for` se vor folosi de astfel de range-uri:"
   ]
  },
  {
   "cell_type": "code",
   "execution_count": null,
   "id": "e4ede2d1-328e-4391-b8cf-86f817d4d7fd",
   "metadata": {},
   "outputs": [],
   "source": [
    "for (i = 1:8)\n",
    "    if (mod(i, 2) == 0) % Din moment ce `%` este rezervat comentariilor...\n",
    "        printf(\"Interesting value, i=%d\\n\", i)\n",
    "    end\n",
    "end"
   ]
  },
  {
   "cell_type": "markdown",
   "id": "c800b569-a678-4263-b4e9-873a45d6c16e",
   "metadata": {},
   "source": [
    "Putem combina range-urile cu ce am învățat pentru a accesa anumite linii sau coloane ale unor matrice:"
   ]
  },
  {
   "cell_type": "code",
   "execution_count": null,
   "id": "fbf91fb7-0788-4c1d-b00b-c6530cd7e2ac",
   "metadata": {},
   "outputs": [],
   "source": [
    "D = [-8 2 3; -4 9 -5; 1 0 6];\n",
    "D0 = D(2, 3)   % Elementul de pe linia 2, coloana 3\n",
    "D1 = D(1, 1:2) % Linia 1, coloanele 1 și 2\n",
    "D2 = D(1, :)   % Linia 1, toate coloanele\n",
    "D3 = D(:, 1)   % Toate liniile, coloana 1"
   ]
  },
  {
   "cell_type": "markdown",
   "id": "86e9cd86-a8a9-4686-88b3-0a1763761905",
   "metadata": {},
   "source": [
    "**Exercițiul 4.** Scrieți o funcție `f(A, x)` care numără toate elementele unei matrice `A` egale cu o anumită valoare `x`."
   ]
  },
  {
   "cell_type": "code",
   "execution_count": null,
   "id": "660e5b5d-79d5-426f-a5d9-43b4bb125777",
   "metadata": {},
   "outputs": [],
   "source": [
    "% TODO - funcție ce numără elementele egale cu o valoare\n",
    "function cnt = f(A, x)\n",
    "    [n, m] = size(A);\n",
    "    cnt = 0;\n",
    "end\n",
    "\n",
    "printf(\"%d\\n\", f([1 1 2; 2 4 1; 5 -5 1; 0 -0 1], 1)); % 5\n",
    "printf(\"%d\\n\", f([1 1 2; 2 4 1; 5 -5 1; 0 -0 1], 0)); % 2"
   ]
  },
  {
   "cell_type": "markdown",
   "id": "6c972857-4fd8-4ce8-ae94-cc279577a1d8",
   "metadata": {},
   "source": [
    "**Exercițiul 5.** (lucrare MN 2024, subiectul B)\n",
    "\n",
    "Implementați o funcție care calculează numărul de condiționare folosind [norma infinit](https://en.wikipedia.org/wiki/Matrix_norm), implementată tot de voi. Puteți folosi `inv(A)` pentru a inversa matricea.\n",
    "\n",
    "_HINT: Numărul de condiționare al unei matrice $A$ este definit drept:_\n",
    "$$\\kappa=||A||\\cdot||A^{-1}||$$"
   ]
  },
  {
   "cell_type": "code",
   "execution_count": null,
   "id": "1e4c2f1d-43e4-4845-b76c-c2b85d74a8e5",
   "metadata": {},
   "outputs": [],
   "source": [
    "% TODO 1 - Norma infinit\n",
    "% Aceasta se definește drept maximul dintre sumele elementelor sub modul\n",
    "% de pe fiecare linie a matricei.\n",
    "% De exemplu, pentru matricea [-3 5 7; 2 6 4; 0 2 8], am avea\n",
    "% max(|-3|+5+7, 2+6+4, 0+2+8) => 15\n",
    "function y = my_inf_norm(A)\n",
    "    y = 0; % TODO 1\n",
    "end\n",
    "\n",
    "printf(\"Ne așteptăm la valoarea 15: %f\", my_inf_norm([-3 5 7; 2 6 4; 0 2 8]));"
   ]
  },
  {
   "cell_type": "code",
   "execution_count": null,
   "id": "b29f0f25-464e-4203-bea5-037feb4eb558",
   "metadata": {},
   "outputs": [],
   "source": [
    "% TODO 2 - Numărul de condiționare\n",
    "function k = cond(A)\n",
    "    k = 0; % TODO 2\n",
    "end\n",
    "\n",
    "printf(\"Numărul de condiționare: %f\", cond([-3 5 7; 2 6 4; 0 2 8])); % 7.674..."
   ]
  },
  {
   "cell_type": "markdown",
   "id": "994f0490-402d-4b44-b821-3803da72f431",
   "metadata": {},
   "source": [
    "## 3. Vizualizarea funcțiilor\n",
    "\n",
    "Octave nu este bun numai când vine vorba de lucru cu matrice! Putem folosi limbajul și pentru a desena diverse funcții descrise numeric.\n",
    "\n",
    "Să încercăm să vizualizăm funcția:\n",
    "\n",
    "$$f(x)=\\frac{(x-8)^3}{100}-\\sin x$$\n",
    "\n",
    "Pentru a realiza acest lucru, vom începe prin a o scrie:"
   ]
  },
  {
   "cell_type": "code",
   "execution_count": null,
   "id": "819d2574-1d76-46b0-99f9-0200b1084f92",
   "metadata": {},
   "outputs": [],
   "source": [
    "function y = f(x)\n",
    "    y = (x - 8) .^ 3 / 100 - sin(x);\n",
    "end"
   ]
  },
  {
   "cell_type": "markdown",
   "id": "29e77439-ba25-4a4d-8b5c-e60d3fbd18bf",
   "metadata": {},
   "source": [
    "Vom **eșantiona (evalua)** funcția în câteva puncte echidistante - să zicem că vrem $40$ de puncte echidistante din intervalul $[0, 16]$.\n",
    "\n",
    "Putem folosi funcția `linspace(a, b, n)`, care ne va genera $n$ puncte din $[a, b]$:"
   ]
  },
  {
   "cell_type": "code",
   "execution_count": null,
   "id": "87a77f9c-48d6-4d6a-88ff-9e52eb90bcbf",
   "metadata": {},
   "outputs": [],
   "source": [
    "x = linspace(0, 16, 40);\n",
    "x(1:5) % Afișăm primele 5 valori"
   ]
  },
  {
   "cell_type": "markdown",
   "id": "cf2beeea-26bd-46b4-824a-9e6170f6f4d9",
   "metadata": {},
   "source": [
    "Evaluăm acum funcția $f$ în punctele $x$:"
   ]
  },
  {
   "cell_type": "code",
   "execution_count": null,
   "id": "9ff25ad3-91ae-43fc-bdc7-b1e524a5532b",
   "metadata": {},
   "outputs": [],
   "source": [
    "y = f(x);\n",
    "y(1:5) % Afișăm primele 5 valori"
   ]
  },
  {
   "cell_type": "markdown",
   "id": "4a31cdad-e468-4439-b49b-7040e277c134",
   "metadata": {},
   "source": [
    "Ca să vizualizăm rezultatul, vom folosi funcția `plot(x, y)`:"
   ]
  },
  {
   "cell_type": "code",
   "execution_count": null,
   "id": "19d27362-2e4c-479d-8465-e1e600dde199",
   "metadata": {},
   "outputs": [],
   "source": [
    "plot(x, y)"
   ]
  },
  {
   "cell_type": "markdown",
   "id": "b19b5d0f-cb76-44d9-81e4-3b7759c47ef2",
   "metadata": {},
   "source": [
    "Pentru a face rezultatul mai aspectuos, se pot folosi opțiuni suplimentare, precum:"
   ]
  },
  {
   "cell_type": "code",
   "execution_count": null,
   "id": "a1ad1aef-39e5-4fdd-9437-cdb70b0f4552",
   "metadata": {},
   "outputs": [],
   "source": [
    "plot(x, y, 'LineWidth', 4, 'Color', [1, 0.5, 0]);\n",
    "xlim([x(1) x(length(x))]); % Numai valori în funcție de x\n",
    "set (gca, \"xaxislocation\", \"origin\"); % Centrează axa Ox în 0\n",
    "set (gca, \"yaxislocation\", \"origin\"); % Centrează axa Oy în 0"
   ]
  },
  {
   "cell_type": "markdown",
   "id": "f9ce64d1-8ec7-419d-b95d-9806e854bdf6",
   "metadata": {},
   "source": [
    "Suplimentar, putem desena mai multe funcții în aceeași figură:"
   ]
  },
  {
   "cell_type": "code",
   "execution_count": null,
   "id": "f0824ead-0713-4f83-a603-2268a51ad54d",
   "metadata": {},
   "outputs": [],
   "source": [
    "x1 = x; y1 = y;\n",
    "x2 = x; y2 = 2*sin(x2);\n",
    "\n",
    "plot(x1, y1, 'LineWidth', 4, 'Color', [1, 0.5, 0],\n",
    "     x2, y2, '--', 'LineWidth', 1, 'Color', [0, 0.5, 1]);\n",
    "\n",
    "xlim([x(1) x(length(x))]); % Numai valori în funcție de x\n",
    "set (gca, \"xaxislocation\", \"origin\"); % Centrează axa Ox în 0\n",
    "set (gca, \"yaxislocation\", \"origin\"); % Centrează axa Oy în 0"
   ]
  },
  {
   "cell_type": "markdown",
   "id": "7b0e8a98-2fc3-425f-a27e-0640e88f8beb",
   "metadata": {},
   "source": [
    "**Exercițiul 6.** Desenați și voi funcția descrisă de ecuațiile:\n",
    "\n",
    "$$\\begin{cases}\n",
    "x(t) = 16\\sin^3(t)\\\\\n",
    "y(t) = 13\\cos(t) - 5\\cos (2t)-2\\cos(3t)-\\cos(4t)\n",
    "\\end{cases}$$"
   ]
  },
  {
   "cell_type": "code",
   "execution_count": null,
   "id": "8f24b3f2-9047-49ae-9e50-62ee02716f0d",
   "metadata": {},
   "outputs": [],
   "source": [
    "% Implementarea lui x(t) vă este deja dată.\n",
    "%\n",
    "% Ca să puteți eșantiona mai târziu funcția x(t) în mai multe puncte,\n",
    "% ar fi de folos ca fx(t) să poată primi un vector de puncte pentru\n",
    "% care se vrea eșantionarea și să returneze un vector de valori cu\n",
    "% calculul în fiecare punct. De aceea, observați utilizarea operatorului\n",
    "% Hadamard.\n",
    "function xv = fx(t)\n",
    "    xv = 16 * sin(t) .^ 3;\n",
    "end\n",
    "\n",
    "% TODO 1 - Implementați y(t)\n",
    "function yv = fy(t)\n",
    "    yv = 0; % TODO 1\n",
    "end\n",
    "\n",
    "% TODO 2 - Eșantionați pentru 100 de puncte din intervalul [0, 2pi]\n",
    "interval = [];\n",
    "xvs = [];\n",
    "yvs = [];\n",
    "\n",
    "% TODO 3 - Desenați funcția, folosind culoarea roșie:\n",
    "% plot(...);\n",
    "\n",
    "xlim([min(xvs)-2 max(xvs)+2]); % Numai valori în funcție de x\n",
    "ylim([min(yvs) max(yvs)]); % Numai valori în funcție de y\n",
    "set (gca, \"xaxislocation\", \"origin\"); % Centrează axa Ox în 0\n",
    "set (gca, \"yaxislocation\", \"origin\"); % Centrează axa Oy în 0"
   ]
  }
 ],
 "metadata": {
  "kernelspec": {
   "display_name": "Octave",
   "language": "octave",
   "name": "octave"
  },
  "language_info": {
   "file_extension": ".m",
   "help_links": [
    {
     "text": "GNU Octave",
     "url": "https://www.gnu.org/software/octave/support.html"
    },
    {
     "text": "Octave Kernel",
     "url": "https://github.com/Calysto/octave_kernel"
    },
    {
     "text": "MetaKernel Magics",
     "url": "https://metakernel.readthedocs.io/en/latest/source/README.html"
    }
   ],
   "mimetype": "text/x-octave",
   "name": "octave",
   "version": "8.4.0"
  }
 },
 "nbformat": 4,
 "nbformat_minor": 5
}
