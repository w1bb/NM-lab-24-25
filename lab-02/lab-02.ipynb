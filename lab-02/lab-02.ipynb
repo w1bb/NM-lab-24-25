{
 "cells": [
  {
   "cell_type": "markdown",
   "id": "976f7291-cf1d-4f77-aaba-5978eaa920dd",
   "metadata": {},
   "source": [
    "# Lab 02 - factorizări LU\n",
    "\n",
    "Data: 05 Mar 2025 \\\n",
    "**Nu uitați de `./run.sh`!** Asigurați-vă că vă funcționează corect setup-ul!"
   ]
  },
  {
   "cell_type": "markdown",
   "id": "4f749e78-c573-4aa9-962d-b4da2b79f738",
   "metadata": {},
   "source": [
    "## 1. Matrice triunghiulare"
   ]
  },
  {
   "cell_type": "markdown",
   "id": "26498fb3-45af-4f59-8e08-79ecca1fe68e",
   "metadata": {},
   "source": [
    "Matricele triunghiulare pot lua două forme:\n",
    "\n",
    "- **Superior triunghiulare**, de forma:\n",
    "  $$\\begin{bmatrix}u_{1,1}&u_{1,2}&u_{1,3}&\\dots&u_{1,n}\\\\0&u_{2,2}&u_{2,3}&\\dots&u_{2,n}\\\\0&0&u_{3,3}&\\dots&u_{3,n}\\\\\\vdots&\\vdots&\\vdots&\\ddots&\\vdots\\\\0&0&0&\\dots&u_{n,n}\\end{bmatrix}$$\n",
    "- **Inferior triunghiulare**, de forma:\n",
    "  $$\\begin{bmatrix}l_{1,1}&0&0&\\dots&0\\\\l_{2,1}&l_{2,2}&0&\\dots&0\\\\l_{3,1}&l_{3,2}&l_{3,3}&\\dots&0\\\\\\vdots&\\vdots&\\vdots&\\ddots&\\vdots\\\\l_{n,1}&l_{n,2}&l_{n,3}&\\dots&l_{n,n}\\end{bmatrix}$$\n",
    "\n",
    "Suplimentar, o matrice triunghiulară se consideră **unitriunghiulară** dacă diagonala principală a acesteia este populată numai cu valori de $1$."
   ]
  },
  {
   "cell_type": "markdown",
   "id": "0018ca95-00c2-4d5d-b375-c548cb65c06f",
   "metadata": {},
   "source": [
    "**Exercițiul 1.** Scrieți o funcție care calculează determinantul unei matrice triunghiulare A, fără a folosi funcția `det(A)` sau `eig(A)`.\n",
    "\n",
    "_HINT: Calculați întâi analitic acest determinant pentru a vă da seama de formulă_"
   ]
  },
  {
   "cell_type": "code",
   "execution_count": null,
   "id": "72b1ffd7-8e65-4ae5-a9a8-719e22363472",
   "metadata": {},
   "outputs": [],
   "source": [
    "function v = det_tri(A)\n",
    "    v = 0; % TODO\n",
    "end\n",
    "\n",
    "A = [2 -1 3; 0 5 1; 0 0 2];\n",
    "fprintf(\"Determinantul corect: %f\\n\", det(A));\n",
    "fprintf(\"Determinantul calculat de voi: %f\\n\", det_tri(A));"
   ]
  },
  {
   "cell_type": "markdown",
   "id": "87d9aec9-ab9b-4b19-978d-d3e48484e5cf",
   "metadata": {},
   "source": [
    "## 2. Factorizări LU\n",
    "\n",
    "Vrem să spargem o matrice $A\\in\\mathbb{R}^{n\\times n}$ în două matrice, $L\\in\\mathbb{R}^{n\\times n}$ și $U\\in\\mathbb{R}^{n\\times n}$, astfel încât:\n",
    "\n",
    "- $A=LU$\n",
    "- $L$ să fie o matrice inferior triunghiulară\n",
    "- $U$ să fie superior triunghiulară\n",
    "\n",
    "O astfel de \"spargere\" poartă denumirea de **factorizare LU**. Există multiplii algoritmi pentru a obține această factorizare, iar noi astăzi ne vom focaliza pe:\n",
    "\n",
    "- **Factorizarea Doolittle** - funcționează pe matrice oarecare, $L$ va fi unitriunghiulară;\n",
    "- **Factorizarea Crout** - funcționează pe matrice oarecare, $U$ va fi unitriunghiulară;\n",
    "- **Factorizarea Cholesky** - funcționează doar pe matrice simetrice, $U=L^T$.\n",
    "\n",
    "Pentru început, să presupunem că avem deja implementată o metodă prin care putem sparge o matrice oarecare în aceste două matrice - mai precis, mai jos aveți implementată funcția pentru **factorizarea Doolittle** (sursă: [cartea de MN](https://v-vintila.com/numerical-methods/i-matrice/1-lu/cholesky.html#h2-cod-ilustrativ)):"
   ]
  },
  {
   "cell_type": "code",
   "execution_count": null,
   "id": "5c6c3860-482e-4535-b792-aef77d331b81",
   "metadata": {},
   "outputs": [],
   "source": [
    "function [L, U] = Crout(A)\n",
    "    [n, n] = size(A);\n",
    "    L = zeros(n);\n",
    "    U = eye(n);\n",
    "\n",
    "    for k = [1 : n]\n",
    "        % Partea I - calcularea valorilor l\n",
    "        for i = [k : n]\n",
    "            s = 0;\n",
    "            for t = [1 : k-1]\n",
    "                s += L(i,t) * U(t,k);\n",
    "            end\n",
    "            L(i,k) = A(i,k) - s;\n",
    "        end\n",
    "        % Partea II - calcularea valorilor u\n",
    "        for j = [k+1 : n]\n",
    "            s = 0;\n",
    "            for t = [1 : k-1]\n",
    "                s += L(k,t) * U(t,j);        \n",
    "            end\n",
    "            U(k,j) = (A(k,j) - s) / L(k,k);\n",
    "        end\n",
    "    end\n",
    "end"
   ]
  },
  {
   "cell_type": "markdown",
   "id": "da8d98fc-5ec7-4232-ba6b-aedddc74be81",
   "metadata": {},
   "source": [
    "Verificăm mai jos corectitudinea sa:"
   ]
  },
  {
   "cell_type": "code",
   "execution_count": null,
   "id": "3c671957-731c-425f-84dd-5c47d71eb633",
   "metadata": {},
   "outputs": [],
   "source": [
    "A = [2 -1 3; 4 5 1; 2 1 2]\n",
    "[L, U] = Crout(A)\n",
    "L * U"
   ]
  },
  {
   "cell_type": "markdown",
   "id": "3e1fddc1-761f-4b27-b65b-bdb746a7f3b2",
   "metadata": {},
   "source": [
    "**Exercițiul 2.** Dată fiind o **factorizare Crout**, calculați o factorizare LDU. Cu alte cuvinte, spargeți o matrice $A=LDU$ în:\n",
    "\n",
    "- $L$ - o matrice inferior **uni**triunghiulară;\n",
    "- $D$ - o matrice diagonală;\n",
    "- $U$ - o matrice superior **uni**triunghiulară.\n",
    "\n",
    "_HINT: Porniți de la o factorizare Crout $A=L'U'$. Care este legătura dintre $L$, $D$, $U$ și $L'$, $U'$?_"
   ]
  },
  {
   "cell_type": "code",
   "execution_count": null,
   "id": "eb25bba9-1dd3-4c92-9224-234d430d210d",
   "metadata": {},
   "outputs": [],
   "source": [
    "function [L, D, U] = ldu_from_Crout(L_Crout, U_Crout)\n",
    "    % TODO\n",
    "    L = [];\n",
    "    D = [];\n",
    "    U = [];\n",
    "end\n",
    "\n",
    "A = [2 -1 3; 4 5 1; 2 1 2];\n",
    "[L_Crout, U_Crout] = Crout(A);\n",
    "[L, D, U] = ldu_from_Crout(L_Crout, U_Crout)\n",
    "L * D * U"
   ]
  },
  {
   "cell_type": "markdown",
   "id": "66cf64d5-8441-41c4-a3d9-bc03030ac9f9",
   "metadata": {},
   "source": [
    "**Exercițiul 3.** Folosind factorizarea Crout a unei matrice oarecare `A`, calculați factorizarea Doolittle a matricei transpuse (`A'`)."
   ]
  },
  {
   "cell_type": "code",
   "execution_count": null,
   "id": "e537a0ee-305e-4f9a-8de1-c005fe7633f0",
   "metadata": {},
   "outputs": [],
   "source": [
    "A = [2 -1 3; 4 5 1; 2 1 2];\n",
    "[L, U] = Crout(A);\n",
    "Lt = []; % TODO\n",
    "Ut = []; % TODO\n",
    "A'\n",
    "Lt * Ut"
   ]
  },
  {
   "cell_type": "markdown",
   "id": "10787278-73be-4539-8157-2772a2014196",
   "metadata": {},
   "source": [
    "## 3. Utilizări practice ale factorizării LU\n",
    "\n",
    "### Calcularea determinantului unei matrice\n",
    "\n",
    "**Exercițiul 4.** Utilizând funcția `det_tri()` pe care ați scris-o la exercițiul 1 și factorizarea Crout, calculați determinantul unei matrice oarecare `A`"
   ]
  },
  {
   "cell_type": "code",
   "execution_count": null,
   "id": "0c31ccb7-d61e-45e1-8502-97322581355c",
   "metadata": {},
   "outputs": [],
   "source": [
    "function d = my_det(A)\n",
    "    d = 0; % TODO\n",
    "end\n",
    "\n",
    "A = [2 -1 3; 4 5 1; 2 1 2];\n",
    "fprintf(\"Determinantul corect: %f\\n\", det(A));\n",
    "fprintf(\"Determinantul calculat de voi: %f\\n\", my_det(A));"
   ]
  },
  {
   "cell_type": "markdown",
   "id": "210b7747-2164-4e1b-9241-eca88fd36363",
   "metadata": {},
   "source": [
    "### Rezolvarea de sisteme de ecuații liniare"
   ]
  },
  {
   "cell_type": "markdown",
   "id": "68d8c286-3789-440e-87c8-cee0756ed08c",
   "metadata": {},
   "source": [
    "La laborator, am explicat cum poate fi rezolvat un sistem de ecuații liniare folosind factorizările LU. Încercați să vă amintiți cum puteți face acest lucru, iar eventual, dacă vă împotmoliți, consultați resursele [de aici](https://v-vintila.com/numerical-methods/i-matrice/1-lu/sisteme.html).\n",
    "\n",
    "**Exercițiul 5.** Implementați funcțiile:\n",
    "\n",
    "- `SST(A, b)` - dat fiind un sistem superior triunghiular de forma $A\\boldsymbol{x}=\\boldsymbol{b}$, funcția găsește soluția unică $\\boldsymbol{x}$;\n",
    "- `SIT(A, b)` - dat fiind un sistem inferior triunghiular de forma $A\\boldsymbol{x}=\\boldsymbol{b}$, funcția găsește soluția unică $\\boldsymbol{x}$;\n",
    "- `sol_sistem(A, b)` - dat fiind un sistem de ecuații liniare oarecare de forma $A\\boldsymbol{x}=\\boldsymbol{b}$, funcția găsește soluția unică $\\boldsymbol{x}$."
   ]
  },
  {
   "cell_type": "code",
   "execution_count": null,
   "id": "d7a42950-4365-4f56-8f43-860fc143c164",
   "metadata": {},
   "outputs": [],
   "source": [
    "function x = SST(A, b)\n",
    "    x = []; % TODO 1\n",
    "end\n",
    "\n",
    "function x = SIT(A, b)\n",
    "    x = []; % TODO 2\n",
    "end\n",
    "\n",
    "\n",
    "function x = sol_sistem(A, b)\n",
    "    x = []; % TODO 3\n",
    "end\n",
    "\n",
    "% TODO 4 - scrieți singuri un test pentru o matrice 3x3"
   ]
  },
  {
   "cell_type": "markdown",
   "id": "b28c6c1b-147d-41c4-8ef6-84204c94cbf0",
   "metadata": {},
   "source": [
    "## 4. Implementările factorizărilor LU"
   ]
  },
  {
   "cell_type": "markdown",
   "id": "62c4b04c-81b4-4b29-92f1-2d5cd0e54d38",
   "metadata": {},
   "source": [
    "**Exercițiul 6.** Folosiți explicațiile [din carte](https://v-vintila.com/numerical-methods/i-matrice/1-lu/doolittle.html) pentru a implementa **factorizarea Doolittle** - atenție, cartea conține o implementare **greșită**, așadar folosiți-vă exclusiv de explicații, nu și de cod!"
   ]
  },
  {
   "cell_type": "code",
   "execution_count": null,
   "id": "7c5ad01a-0e73-4895-a47b-2a25ac0e90b9",
   "metadata": {},
   "outputs": [],
   "source": [
    "function [L, U] = Doolittle(A)\n",
    "    % TODO\n",
    "    L = [];\n",
    "    U = [];\n",
    "end\n",
    "\n",
    "A = [2 -1 3; 4 5 1; 2 1 2];\n",
    "[L, U] = Doolittle(A)\n",
    "L * U"
   ]
  },
  {
   "cell_type": "markdown",
   "id": "0bd597b8-d3a4-4786-8cb9-521e4f1536a3",
   "metadata": {},
   "source": [
    "**Exercițiul 7.** Folosiți explicațiile [din carte](https://v-vintila.com/numerical-methods/i-matrice/1-lu/cholesky.html) pentru a implementa **factorizarea Cholesky** - atenție, cartea conține o implementare **greșită**, așadar folosiți-vă exclusiv de explicații, nu și de cod!"
   ]
  },
  {
   "cell_type": "code",
   "execution_count": null,
   "id": "ba155b66-9eee-4a39-999f-2d64618f49eb",
   "metadata": {},
   "outputs": [],
   "source": [
    "function L = Cholesky(A)\n",
    "    % TODO\n",
    "    L = [];\n",
    "end\n",
    "\n",
    "A = [4 12 16; 12 37 43; 16 43 98];\n",
    "L = Cholesky(A)\n",
    "L * L'"
   ]
  },
  {
   "cell_type": "code",
   "execution_count": null,
   "id": "2ce401a2-5a6d-4128-921e-c936da836c40",
   "metadata": {},
   "outputs": [],
   "source": []
  }
 ],
 "metadata": {
  "kernelspec": {
   "display_name": "Octave",
   "language": "octave",
   "name": "octave"
  },
  "language_info": {
   "file_extension": ".m",
   "help_links": [
    {
     "text": "GNU Octave",
     "url": "https://www.gnu.org/software/octave/support.html"
    },
    {
     "text": "Octave Kernel",
     "url": "https://github.com/Calysto/octave_kernel"
    },
    {
     "text": "MetaKernel Magics",
     "url": "https://metakernel.readthedocs.io/en/latest/source/README.html"
    }
   ],
   "mimetype": "text/x-octave",
   "name": "octave",
   "version": "8.4.0"
  }
 },
 "nbformat": 4,
 "nbformat_minor": 5
}
